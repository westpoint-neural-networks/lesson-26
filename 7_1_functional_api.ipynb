{
  "nbformat": 4,
  "nbformat_minor": 0,
  "metadata": {
    "kernelspec": {
      "display_name": "Python 3",
      "language": "python",
      "name": "python3"
    },
    "language_info": {
      "codemirror_mode": {
        "name": "ipython",
        "version": 3
      },
      "file_extension": ".py",
      "mimetype": "text/x-python",
      "name": "python",
      "nbconvert_exporter": "python",
      "pygments_lexer": "ipython3",
      "version": "3.5.2"
    },
    "colab": {
      "name": "7.1-functional-api.ipynb",
      "provenance": [],
      "collapsed_sections": [],
      "toc_visible": true
    }
  },
  "cells": [
    {
      "cell_type": "markdown",
      "metadata": {
        "id": "n3I5QIoTH_qc",
        "colab_type": "text"
      },
      "source": [
        "# Lesson 26: Functional API\n",
        "\n",
        "Run this notebook. It will produce a model summary and model graph. Add a second branch to the model such that your model summary is as follows: \n",
        "\n",
        "```\n",
        "__________________________________________________________________________________________________\n",
        "Layer (type)                    Output Shape         Param #     Connected to                     \n",
        "==================================================================================================\n",
        "visible (InputLayer)            [(None, 64, 64, 1)]  0                                            \n",
        "__________________________________________________________________________________________________\n",
        "conv1 (Conv2D)                  (None, 61, 61, 32)   544         visible[0][0]                    \n",
        "__________________________________________________________________________________________________\n",
        "conv2 (Conv2D)                  (None, 57, 57, 16)   1040        visible[0][0]                    \n",
        "__________________________________________________________________________________________________\n",
        "pool1 (MaxPooling2D)            (None, 30, 30, 32)   0           conv1[0][0]                      \n",
        "__________________________________________________________________________________________________\n",
        "pool2 (MaxPooling2D)            (None, 28, 28, 16)   0           conv2[0][0]                      \n",
        "__________________________________________________________________________________________________\n",
        "flat1 (Flatten)                 (None, 28800)        0           pool1[0][0]                      \n",
        "__________________________________________________________________________________________________\n",
        "flat2 (Flatten)                 (None, 12544)        0           pool2[0][0]                      \n",
        "__________________________________________________________________________________________________\n",
        "merge (Concatenate)             (None, 41344)        0           flat1[0][0]                      \n",
        "                                                                 flat2[0][0]                      \n",
        "__________________________________________________________________________________________________\n",
        "hidden1 (Dense)                 (None, 10)           413450      merge[0][0]                      \n",
        "__________________________________________________________________________________________________\n",
        "output (Dense)                  (None, 1)            11          hidden1[0][0]                    \n",
        "==================================================================================================\n",
        "Total params: 415,045\n",
        "Trainable params: 415,045\n",
        "Non-trainable params: 0\n",
        "```\n",
        "\n",
        "Your model's graph should like this: \n",
        "\n",
        "<img title=\"\" alt=\"\" src=\"https://i.imgur.com/vhBtIwB.png\" />"
      ]
    },
    {
      "cell_type": "markdown",
      "metadata": {
        "id": "x3G8y8tJHyUt",
        "colab_type": "text"
      },
      "source": [
        "## Single-branch network \n",
        "\n",
        "The code below will generate the single-branch version of the network:"
      ]
    },
    {
      "cell_type": "code",
      "metadata": {
        "id": "O20u6b5XHyUm",
        "colab_type": "code",
        "colab": {}
      },
      "source": [
        "from tensorflow.keras import Input\n",
        "from tensorflow.keras import Model\n",
        "from tensorflow.keras import layers \n",
        "\n",
        "# input layer\n",
        "visible = Input(shape=(64,64,1),name='visible')\n",
        "\n",
        "# feature extractor\n",
        "conv1 = layers.Conv2D(32, kernel_size=4, activation='relu', name='conv1')(visible)\n",
        "pool1 = layers.MaxPooling2D(pool_size=(2, 2), name='pool1')(conv1)\n",
        "flat1 = layers.Flatten(name='flat1')(pool1)\n",
        "\n",
        "# interpretation layer\n",
        "hidden1 = layers.Dense(10, activation='relu', name='hidden1')(flat1)\n",
        "\n",
        "# output\n",
        "output = layers.Dense(1, activation='sigmoid', name='output')(hidden1)\n",
        "model = Model(inputs=visible, outputs=output, name='model')"
      ],
      "execution_count": 0,
      "outputs": []
    },
    {
      "cell_type": "markdown",
      "metadata": {
        "id": "_m0XEuEgB905",
        "colab_type": "text"
      },
      "source": [
        "## Summary \n",
        "\n",
        "The following will print a summary of your network:"
      ]
    },
    {
      "cell_type": "code",
      "metadata": {
        "id": "WzpqppqhCG2a",
        "colab_type": "code",
        "colab": {
          "base_uri": "https://localhost:8080/",
          "height": 357
        },
        "outputId": "50b24747-8907-49db-93f5-63af450d6451"
      },
      "source": [
        "model.summary()"
      ],
      "execution_count": 8,
      "outputs": [
        {
          "output_type": "stream",
          "text": [
            "Model: \"model\"\n",
            "_________________________________________________________________\n",
            "Layer (type)                 Output Shape              Param #   \n",
            "=================================================================\n",
            "visible (InputLayer)         [(None, 64, 64, 1)]       0         \n",
            "_________________________________________________________________\n",
            "conv1 (Conv2D)               (None, 61, 61, 32)        544       \n",
            "_________________________________________________________________\n",
            "pool1 (MaxPooling2D)         (None, 30, 30, 32)        0         \n",
            "_________________________________________________________________\n",
            "flat1 (Flatten)              (None, 28800)             0         \n",
            "_________________________________________________________________\n",
            "hidden1 (Dense)              (None, 10)                288010    \n",
            "_________________________________________________________________\n",
            "output (Dense)               (None, 1)                 11        \n",
            "=================================================================\n",
            "Total params: 288,565\n",
            "Trainable params: 288,565\n",
            "Non-trainable params: 0\n",
            "_________________________________________________________________\n"
          ],
          "name": "stdout"
        }
      ]
    },
    {
      "cell_type": "markdown",
      "metadata": {
        "id": "mQkEir0ECMfp",
        "colab_type": "text"
      },
      "source": [
        "## Network graph\n",
        "\n",
        "Finally, the following block will generate the graph of your network:"
      ]
    },
    {
      "cell_type": "code",
      "metadata": {
        "id": "U0U3IdY4B8Ky",
        "colab_type": "code",
        "colab": {
          "base_uri": "https://localhost:8080/",
          "height": 564
        },
        "outputId": "3e2737c7-f978-4061-bd68-eff30352a8f9"
      },
      "source": [
        "from tensorflow.keras.utils import plot_model\n",
        "plot_model(model, show_shapes=True)"
      ],
      "execution_count": 9,
      "outputs": [
        {
          "output_type": "execute_result",
          "data": {
            "image/png": "[encoded data removed]",
            "text/plain": [
              "<IPython.core.display.Image object>"
            ]
          },
          "metadata": {
            "tags": []
          },
          "execution_count": 9
        }
      ]
    }
  ]
}
